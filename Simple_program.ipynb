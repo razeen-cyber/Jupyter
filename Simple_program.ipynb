{
 "cells": [
  {
   "cell_type": "markdown",
   "metadata": {},
   "source": [
    "# My Jupyter Notebook on IBM Data Science Experience"
   ]
  },
  {
   "cell_type": "markdown",
   "metadata": {},
   "source": [
    "**MD RAZEENUDDIN MEHDI**  \n",
    "I'm currently a student pursuing Computer Science Engineering"
   ]
  },
  {
   "cell_type": "markdown",
   "metadata": {},
   "source": [
    "_My dream is to implement data science in the field of medical science and hopefully help save lives, this is one of the key reasons why I'm so interested in data science_"
   ]
  },
  {
   "cell_type": "markdown",
   "metadata": {},
   "source": [
    "### Simple program that prints a pattern"
   ]
  },
  {
   "cell_type": "code",
   "execution_count": 2,
   "metadata": {},
   "outputs": [
    {
     "name": "stdout",
     "output_type": "stream",
     "text": [
      "* \n",
      "\n",
      "* * \n",
      "\n",
      "* * * \n",
      "\n",
      "* * * * \n",
      "\n",
      "* * * * * \n",
      "\n"
     ]
    }
   ],
   "source": [
    "def pattern(n):\n",
    "    for i in range(n):\n",
    "        for j in range(i+1):\n",
    "            print(\"* \", end = \"\")\n",
    "        print(\"\\n\")\n",
    "n = 5\n",
    "pattern(n)"
   ]
  },
  {
   "cell_type": "markdown",
   "metadata": {},
   "source": [
    "- Hyperlink\n",
    "<a href=https://www.linkedin.com/in/razeen-mehdi-615819190/> My LinkedIn Profile </a>\n",
    "\n",
    "- Image\n",
    "<image src=https://www.google.com/url?sa=i&url=https%3A%2F%2Fcommons.wikimedia.org%2Fwiki%2FFile%3AIBM_logo.svg&psig=AOvVaw3SK1d996_PbJliXkBlN4b2&ust=1592407378138000&source=images&cd=vfe&ved=0CAIQjRxqFwoTCNjLvPPRhuoCFQAAAAAdAAAAABAD>\n",
    "\n",
    "- Numbered List\n",
    "    1. First point\n",
    "    1. Second point\n",
    "    1. Third point"
   ]
  },
  {
   "cell_type": "code",
   "execution_count": null,
   "metadata": {},
   "outputs": [],
   "source": []
  }
 ],
 "metadata": {
  "kernelspec": {
   "display_name": "Python",
   "language": "python",
   "name": "conda-env-python-py"
  },
  "language_info": {
   "codemirror_mode": {
    "name": "ipython",
    "version": 3
   },
   "file_extension": ".py",
   "mimetype": "text/x-python",
   "name": "python",
   "nbconvert_exporter": "python",
   "pygments_lexer": "ipython3",
   "version": "3.6.10"
  }
 },
 "nbformat": 4,
 "nbformat_minor": 4
}
